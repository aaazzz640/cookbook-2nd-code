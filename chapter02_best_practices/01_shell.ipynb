{
 "cells": [
  {
   "cell_type": "markdown",
   "metadata": {},
   "source": [
    "# 2.1. Learning the basics of the Unix shell"
   ]
  },
  {
   "cell_type": "code",
   "execution_count": 3,
   "metadata": {},
   "outputs": [
    {
     "data": {
      "text/plain": [
       "'/Users/arielzhu/Documents/GitHub/IPython-cookbook-2nd-code/chapter02_best_practices'"
      ]
     },
     "execution_count": 3,
     "metadata": {},
     "output_type": "execute_result"
    }
   ],
   "source": [
    "pwd"
   ]
  },
  {
   "cell_type": "code",
   "execution_count": 4,
   "metadata": {},
   "outputs": [
    {
     "name": "stdout",
     "output_type": "stream",
     "text": [
      "01_py3.ipynb           04_git_advanced.ipynb  07_high_quality.ipynb\r\n",
      "01_shell.ipynb         05_tips.ipynb          07_test.ipynb\r\n",
      "02_py3.ipynb           05_workflows.ipynb     08_debugging.ipynb\r\n",
      "02_workflows.ipynb     06_high_quality.ipynb  08_test.ipynb\r\n",
      "03_git.ipynb           06_tips.ipynb          09_debugging.ipynb\r\n"
     ]
    }
   ],
   "source": [
    "ls"
   ]
  },
  {
   "cell_type": "code",
   "execution_count": 5,
   "metadata": {},
   "outputs": [
    {
     "name": "stdout",
     "output_type": "stream",
     "text": [
      "total 192\r\n",
      "-rw-r--r--  1 arielzhu  staff   9910 Jan  7 23:18 01_py3.ipynb\r\n",
      "-rw-r--r--  1 arielzhu  staff   6769 Jan  7 23:18 01_shell.ipynb\r\n",
      "-rw-r--r--  1 arielzhu  staff  10016 Jan  7 23:18 02_py3.ipynb\r\n",
      "-rw-r--r--  1 arielzhu  staff    212 Jan  7 23:18 02_workflows.ipynb\r\n",
      "-rw-r--r--  1 arielzhu  staff   5245 Jan  7 23:18 03_git.ipynb\r\n",
      "-rw-r--r--  1 arielzhu  staff   6680 Jan  7 23:18 04_git_advanced.ipynb\r\n",
      "-rw-r--r--  1 arielzhu  staff    228 Jan  7 23:18 05_tips.ipynb\r\n",
      "-rw-r--r--  1 arielzhu  staff    217 Jan  7 23:18 05_workflows.ipynb\r\n",
      "-rw-r--r--  1 arielzhu  staff    906 Jan  7 23:18 06_high_quality.ipynb\r\n",
      "-rw-r--r--  1 arielzhu  staff    233 Jan  7 23:18 06_tips.ipynb\r\n",
      "-rw-r--r--  1 arielzhu  staff    901 Jan  7 23:18 07_high_quality.ipynb\r\n",
      "-rw-r--r--  1 arielzhu  staff   4697 Jan  7 23:18 07_test.ipynb\r\n",
      "-rw-r--r--  1 arielzhu  staff    666 Jan  7 23:18 08_debugging.ipynb\r\n",
      "-rw-r--r--  1 arielzhu  staff   4692 Jan  7 23:18 08_test.ipynb\r\n",
      "-rw-r--r--  1 arielzhu  staff    666 Jan  7 23:18 09_debugging.ipynb\r\n"
     ]
    }
   ],
   "source": [
    "ls -l"
   ]
  },
  {
   "cell_type": "code",
   "execution_count": 10,
   "metadata": {},
   "outputs": [
    {
     "name": "stdout",
     "output_type": "stream",
     "text": [
      "/Users/arielzhu/Documents/GitHub/IPython-cookbook-2nd-code/chapter02_best_practices/images\n"
     ]
    }
   ],
   "source": [
    "cd images"
   ]
  },
  {
   "cell_type": "code",
   "execution_count": 11,
   "metadata": {},
   "outputs": [
    {
     "data": {
      "text/plain": [
       "'/Users/arielzhu/Documents/GitHub/IPython-cookbook-2nd-code/chapter02_best_practices/images'"
      ]
     },
     "execution_count": 11,
     "metadata": {},
     "output_type": "execute_result"
    }
   ],
   "source": [
    "pwd"
   ]
  },
  {
   "cell_type": "code",
   "execution_count": 12,
   "metadata": {},
   "outputs": [],
   "source": [
    "ls"
   ]
  },
  {
   "cell_type": "code",
   "execution_count": 13,
   "metadata": {},
   "outputs": [
    {
     "name": "stdout",
     "output_type": "stream",
     "text": [
      "/Users/arielzhu/Documents/GitHub/IPython-cookbook-2nd-code/chapter02_best_practices\n"
     ]
    }
   ],
   "source": [
    "cd .."
   ]
  },
  {
   "cell_type": "code",
   "execution_count": 14,
   "metadata": {},
   "outputs": [
    {
     "data": {
      "text/plain": [
       "'/Users/arielzhu/Documents/GitHub/IPython-cookbook-2nd-code/chapter02_best_practices'"
      ]
     },
     "execution_count": 14,
     "metadata": {},
     "output_type": "execute_result"
    }
   ],
   "source": [
    "pwd"
   ]
  },
  {
   "cell_type": "code",
   "execution_count": 17,
   "metadata": {},
   "outputs": [
    {
     "name": "stdout",
     "output_type": "stream",
     "text": [
      "total 0\r\n",
      "drwxr-xr-x   5 arielzhu  staff   160 Dec 24 22:16 \u001b[34m.\u001b[m\u001b[m/\r\n",
      "drwxr-x---+ 49 arielzhu  staff  1568 Jan 12 10:44 \u001b[34m..\u001b[m\u001b[m/\r\n",
      "drwxr-xr-x   2 arielzhu  staff    64 Dec 24 22:16 \u001b[34mextensions\u001b[m\u001b[m/\r\n",
      "drwxr-xr-x   2 arielzhu  staff    64 Dec 24 22:16 \u001b[34mnbextensions\u001b[m\u001b[m/\r\n",
      "drwxr-xr-x   8 arielzhu  staff   256 Jan 12 11:47 \u001b[34mprofile_default\u001b[m\u001b[m/\r\n"
     ]
    }
   ],
   "source": [
    "ls -la ~/.ipython"
   ]
  },
  {
   "cell_type": "code",
   "execution_count": 18,
   "metadata": {},
   "outputs": [
    {
     "ename": "SyntaxError",
     "evalue": "invalid syntax (1105008485.py, line 2)",
     "output_type": "error",
     "traceback": [
      "\u001b[0;36m  File \u001b[0;32m\"/var/folders/vr/cs9d4xr55636bhsvv0f856ph0000gn/T/ipykernel_2717/1105008485.py\"\u001b[0;36m, line \u001b[0;32m2\u001b[0m\n\u001b[0;31m    mkdir md_files\u001b[0m\n\u001b[0m          ^\u001b[0m\n\u001b[0;31mSyntaxError\u001b[0m\u001b[0;31m:\u001b[0m invalid syntax\n"
     ]
    }
   ],
   "source": [
    "# We create an empty directory:\n",
    "mkdir md_files\n",
    "# We copy all Markdown files into the new directory:\n",
    "cp *.md md_files\n",
    "# We rename the directory:\n",
    "mv md_files markdown_files\n",
    "ls markdown_files"
   ]
  },
  {
   "cell_type": "code",
   "execution_count": 19,
   "metadata": {},
   "outputs": [
    {
     "name": "stdout",
     "output_type": "stream",
     "text": [
      "rmdir: markdown_files: No such file or directory\r\n"
     ]
    }
   ],
   "source": [
    "rmdir markdown_files"
   ]
  },
  {
   "cell_type": "code",
   "execution_count": 20,
   "metadata": {},
   "outputs": [
    {
     "name": "stdout",
     "output_type": "stream",
     "text": [
      "zsh:1: no matches found: markdown_files/*\r\n"
     ]
    }
   ],
   "source": [
    "rm markdown_files/*"
   ]
  },
  {
   "cell_type": "code",
   "execution_count": 21,
   "metadata": {},
   "outputs": [
    {
     "name": "stdout",
     "output_type": "stream",
     "text": [
      "rmdir: markdown_files: No such file or directory\r\n"
     ]
    }
   ],
   "source": [
    "rmdir markdown_files"
   ]
  },
  {
   "cell_type": "code",
   "execution_count": 22,
   "metadata": {},
   "outputs": [
    {
     "ename": "SyntaxError",
     "evalue": "invalid syntax (817333998.py, line 2)",
     "output_type": "error",
     "traceback": [
      "\u001b[0;36m  File \u001b[0;32m\"/var/folders/vr/cs9d4xr55636bhsvv0f856ph0000gn/T/ipykernel_2717/817333998.py\"\u001b[0;36m, line \u001b[0;32m2\u001b[0m\n\u001b[0;31m    head -n 3 01_shell.md\u001b[0m\n\u001b[0m            ^\u001b[0m\n\u001b[0;31mSyntaxError\u001b[0m\u001b[0;31m:\u001b[0m invalid syntax\n"
     ]
    }
   ],
   "source": [
    "# Show the first three lines of a text file:\n",
    "head -n 3 01_shell.md"
   ]
  },
  {
   "cell_type": "code",
   "execution_count": 23,
   "metadata": {},
   "outputs": [
    {
     "ename": "SyntaxError",
     "evalue": "invalid syntax (2832884943.py, line 2)",
     "output_type": "error",
     "traceback": [
      "\u001b[0;36m  File \u001b[0;32m\"/var/folders/vr/cs9d4xr55636bhsvv0f856ph0000gn/T/ipykernel_2717/2832884943.py\"\u001b[0;36m, line \u001b[0;32m2\u001b[0m\n\u001b[0;31m    tail -n 1 00_intro.md\u001b[0m\n\u001b[0m            ^\u001b[0m\n\u001b[0;31mSyntaxError\u001b[0m\u001b[0;31m:\u001b[0m invalid syntax\n"
     ]
    }
   ],
   "source": [
    "# Show the last line of a text file:\n",
    "tail -n 1 00_intro.md"
   ]
  },
  {
   "cell_type": "code",
   "execution_count": 24,
   "metadata": {},
   "outputs": [
    {
     "ename": "SyntaxError",
     "evalue": "invalid syntax (728824709.py, line 2)",
     "output_type": "error",
     "traceback": [
      "\u001b[0;36m  File \u001b[0;32m\"/var/folders/vr/cs9d4xr55636bhsvv0f856ph0000gn/T/ipykernel_2717/728824709.py\"\u001b[0;36m, line \u001b[0;32m2\u001b[0m\n\u001b[0;31m    echo \"Hello world!\"\u001b[0m\n\u001b[0m         ^\u001b[0m\n\u001b[0;31mSyntaxError\u001b[0m\u001b[0;31m:\u001b[0m invalid syntax\n"
     ]
    }
   ],
   "source": [
    "# We display some text:\n",
    "echo \"Hello world!\""
   ]
  },
  {
   "cell_type": "code",
   "execution_count": 25,
   "metadata": {},
   "outputs": [
    {
     "ename": "SyntaxError",
     "evalue": "invalid syntax (2470018742.py, line 3)",
     "output_type": "error",
     "traceback": [
      "\u001b[0;36m  File \u001b[0;32m\"/var/folders/vr/cs9d4xr55636bhsvv0f856ph0000gn/T/ipykernel_2717/2470018742.py\"\u001b[0;36m, line \u001b[0;32m3\u001b[0m\n\u001b[0;31m    echo \"Hello world!\" > myfile.txt\u001b[0m\n\u001b[0m         ^\u001b[0m\n\u001b[0;31mSyntaxError\u001b[0m\u001b[0;31m:\u001b[0m invalid syntax\n"
     ]
    }
   ],
   "source": [
    "# We redirect the output of a command to\n",
    "# a text file with `>`:\n",
    "echo \"Hello world!\" > myfile.txt"
   ]
  },
  {
   "cell_type": "code",
   "execution_count": 26,
   "metadata": {},
   "outputs": [
    {
     "ename": "SyntaxError",
     "evalue": "invalid syntax (2592188212.py, line 2)",
     "output_type": "error",
     "traceback": [
      "\u001b[0;36m  File \u001b[0;32m\"/var/folders/vr/cs9d4xr55636bhsvv0f856ph0000gn/T/ipykernel_2717/2592188212.py\"\u001b[0;36m, line \u001b[0;32m2\u001b[0m\n\u001b[0;31m    cat myfile.txt\u001b[0m\n\u001b[0m        ^\u001b[0m\n\u001b[0;31mSyntaxError\u001b[0m\u001b[0;31m:\u001b[0m invalid syntax\n"
     ]
    }
   ],
   "source": [
    "# We display the entire contents of the file:\n",
    "cat myfile.txt"
   ]
  },
  {
   "cell_type": "code",
   "execution_count": 19,
   "metadata": {},
   "outputs": [
    {
     "name": "stdout",
     "output_type": "stream",
     "text": [
      "Unix shell\n",
      "Unix shell\n",
      "Unix subsystem\n",
      "Unix shell\n",
      "(...)\n",
      "Unix shell\n",
      "Unix shell\n"
     ]
    }
   ],
   "source": [
    "grep -Eo \"Unix \\w+\" 01_shell.md"
   ]
  },
  {
   "cell_type": "code",
   "execution_count": 27,
   "metadata": {},
   "outputs": [
    {
     "ename": "SyntaxError",
     "evalue": "invalid syntax (971028208.py, line 1)",
     "output_type": "error",
     "traceback": [
      "\u001b[0;36m  File \u001b[0;32m\"/var/folders/vr/cs9d4xr55636bhsvv0f856ph0000gn/T/ipykernel_2717/971028208.py\"\u001b[0;36m, line \u001b[0;32m1\u001b[0m\n\u001b[0;31m    echo \"This is a Unix shell\" | grep -Eo \"Unix \\w+\"\u001b[0m\n\u001b[0m         ^\u001b[0m\n\u001b[0;31mSyntaxError\u001b[0m\u001b[0;31m:\u001b[0m invalid syntax\n"
     ]
    }
   ],
   "source": [
    "echo \"This is a Unix shell\" | grep -Eo \"Unix \\w+\""
   ]
  },
  {
   "cell_type": "code",
   "execution_count": null,
   "metadata": {},
   "outputs": [],
   "source": []
  },
  {
   "cell_type": "code",
   "execution_count": null,
   "metadata": {},
   "outputs": [],
   "source": []
  },
  {
   "cell_type": "code",
   "execution_count": null,
   "metadata": {},
   "outputs": [],
   "source": []
  },
  {
   "cell_type": "code",
   "execution_count": null,
   "metadata": {},
   "outputs": [],
   "source": []
  },
  {
   "cell_type": "code",
   "execution_count": null,
   "metadata": {},
   "outputs": [],
   "source": []
  },
  {
   "cell_type": "code",
   "execution_count": null,
   "metadata": {},
   "outputs": [],
   "source": []
  }
 ],
 "metadata": {
  "kernelspec": {
   "display_name": "Python 3 (ipykernel)",
   "language": "python",
   "name": "python3"
  },
  "language_info": {
   "codemirror_mode": {
    "name": "ipython",
    "version": 3
   },
   "file_extension": ".py",
   "mimetype": "text/x-python",
   "name": "python",
   "nbconvert_exporter": "python",
   "pygments_lexer": "ipython3",
   "version": "3.9.7"
  }
 },
 "nbformat": 4,
 "nbformat_minor": 2
}
