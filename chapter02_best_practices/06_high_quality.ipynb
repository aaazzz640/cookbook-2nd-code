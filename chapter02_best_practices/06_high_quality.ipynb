{
 "cells": [
  {
   "cell_type": "markdown",
   "metadata": {},
   "source": [
    "# Writing high-quality Python code"
   ]
  },
  {
   "cell_type": "code",
   "execution_count": 1,
   "metadata": {},
   "outputs": [],
   "source": [
    "def power(x, n):\n",
    "    \"\"\"Compute the power of a number.\n",
    "\n",
    "    Arguments:\n",
    "    * x: a number\n",
    "    * n: the exponent\n",
    "\n",
    "    Returns:\n",
    "    * c: the number x to the power of n\n",
    "\n",
    "    \"\"\"\n",
    "    return x ** n"
   ]
  },
  {
   "cell_type": "code",
   "execution_count": 2,
   "metadata": {},
   "outputs": [],
   "source": [
    "# Imports\n",
    "# -------\n",
    "import numpy\n",
    "\n",
    "# Utility functions\n",
    "# -----------------\n",
    "\n",
    "\n",
    "def fun():\n",
    "    pass"
   ]
  },
  {
   "cell_type": "code",
   "execution_count": null,
   "metadata": {},
   "outputs": [],
   "source": []
  }
 ],
 "metadata": {
  "kernelspec": {
   "display_name": "Python 3 (ipykernel)",
   "language": "python",
   "name": "python3"
  },
  "language_info": {
   "codemirror_mode": {
    "name": "ipython",
    "version": 3
   },
   "file_extension": ".py",
   "mimetype": "text/x-python",
   "name": "python",
   "nbconvert_exporter": "python",
   "pygments_lexer": "ipython3",
   "version": "3.7.11"
  }
 },
 "nbformat": 4,
 "nbformat_minor": 2
}
