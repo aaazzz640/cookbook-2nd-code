{
 "cells": [
  {
   "cell_type": "markdown",
   "metadata": {},
   "source": [
    "# Writing unit tests with py.test"
   ]
  },
  {
   "cell_type": "code",
   "execution_count": 1,
   "metadata": {},
   "outputs": [
    {
     "name": "stdout",
     "output_type": "stream",
     "text": [
      "Overwriting first.py\n"
     ]
    }
   ],
   "source": [
    "%%writefile first.py\n",
    "def first(l):\n",
    "    return l[0]"
   ]
  },
  {
   "cell_type": "code",
   "execution_count": 5,
   "metadata": {},
   "outputs": [
    {
     "ename": "ModuleNotFoundError",
     "evalue": "No module named 'pytest'",
     "output_type": "error",
     "traceback": [
      "\u001b[0;31m---------------------------------------------------------------------------\u001b[0m",
      "\u001b[0;31mModuleNotFoundError\u001b[0m                       Traceback (most recent call last)",
      "\u001b[0;32m/var/folders/vr/cs9d4xr55636bhsvv0f856ph0000gn/T/ipykernel_8372/2108093092.py\u001b[0m in \u001b[0;36m<module>\u001b[0;34m\u001b[0m\n\u001b[0;32m----> 1\u001b[0;31m \u001b[0;32mimport\u001b[0m \u001b[0mpytest\u001b[0m\u001b[0;34m\u001b[0m\u001b[0;34m\u001b[0m\u001b[0m\n\u001b[0m",
      "\u001b[0;31mModuleNotFoundError\u001b[0m: No module named 'pytest'"
     ]
    }
   ],
   "source": []
  },
  {
   "cell_type": "code",
   "execution_count": 2,
   "metadata": {},
   "outputs": [
    {
     "name": "stdout",
     "output_type": "stream",
     "text": [
      "Appending to first.py\n"
     ]
    }
   ],
   "source": [
    "%%writefile -a first.py\n",
    "\n",
    "\n",
    "# This is appended to the file.\n",
    "def test_first():\n",
    "    assert first([1, 2, 3]) == 1"
   ]
  },
  {
   "cell_type": "code",
   "execution_count": 3,
   "metadata": {},
   "outputs": [
    {
     "name": "stdout",
     "output_type": "stream",
     "text": [
      "def first(l):\n",
      "    return l[0]\n",
      "\n",
      "\n",
      "# This is appended to the file.\n",
      "def test_first():\n",
      "    assert first([1, 2, 3]) == 1\n"
     ]
    }
   ],
   "source": [
    "%cat first.py"
   ]
  },
  {
   "cell_type": "code",
   "execution_count": 4,
   "metadata": {},
   "outputs": [
    {
     "name": "stdout",
     "output_type": "stream",
     "text": [
      "zsh:1: command not found: pytest\n"
     ]
    }
   ],
   "source": [
    "!pytest first.py"
   ]
  },
  {
   "cell_type": "code",
   "execution_count": 5,
   "metadata": {},
   "outputs": [
    {
     "name": "stdout",
     "output_type": "stream",
     "text": [
      "Overwriting first.py\n"
     ]
    }
   ],
   "source": [
    "%%writefile first.py\n",
    "def first(l):\n",
    "    return l[0]\n",
    "\n",
    "def test_first():\n",
    "    assert first([1, 2, 3]) == 1\n",
    "    assert first([]) is None"
   ]
  },
  {
   "cell_type": "code",
   "execution_count": 6,
   "metadata": {},
   "outputs": [
    {
     "name": "stdout",
     "output_type": "stream",
     "text": [
      "============= test session starts ==============\n",
      "platform linux -- Python 3.6.3, pytest-3.2.1, py-1.4.34\n",
      "rootdir: ~/git/cookbook-2nd/chapter02_best_practices:\n",
      "plugins: cov-2.5.1\n",
      "\n",
      "collecting 0 items\n",
      "collecting 1 item\n",
      "collected 1 item\n",
      "\n",
      "first.py F\n",
      "\n",
      "=================== FAILURES ===================\n",
      "__________________ test_first __________________\n",
      "\n",
      "    def test_first():\n",
      "        assert first([1, 2, 3]) == 1\n",
      ">       assert first([]) is None\n",
      "\n",
      "first.py:6:\n",
      " _ _ _ _ _ _ _ _ _ _ _ _ _ _ _ _ _ _ _ _ _ _ _ _\n",
      "\n",
      "l = []\n",
      "\n",
      "    def first(l):\n",
      ">       return l[0]\n",
      "E       IndexError: list index out of range\n",
      "\n",
      "first.py:2: IndexError\n",
      "=========== 1 failed in 0.02 seconds ===========\n"
     ]
    }
   ],
   "source": [
    "!pytest first.py"
   ]
  },
  {
   "cell_type": "code",
   "execution_count": 7,
   "metadata": {},
   "outputs": [
    {
     "name": "stdout",
     "output_type": "stream",
     "text": [
      "Overwriting first.py\n"
     ]
    }
   ],
   "source": [
    "%%writefile first.py\n",
    "def first(l):\n",
    "    return l[0] if l else None\n",
    "\n",
    "def test_first():\n",
    "    assert first([1, 2, 3]) == 1\n",
    "    assert first([]) is None"
   ]
  },
  {
   "cell_type": "code",
   "execution_count": 8,
   "metadata": {},
   "outputs": [
    {
     "name": "stdout",
     "output_type": "stream",
     "text": [
      "============= test session starts ==============\n",
      "platform linux -- Python 3.6.3, pytest-3.2.1, py-1.4.34\n",
      "rootdir: ~/git/cookbook-2nd/chapter02_best_practices:\n",
      "plugins: cov-2.5.1\n",
      "\n",
      "collecting 0 items\n",
      "collecting 1 item\n",
      "collected 1 item\n",
      "\n",
      "first.py .\n",
      "\n",
      "=========== 1 passed in 0.00 seconds ===========\n"
     ]
    }
   ],
   "source": [
    "!pytest first.py"
   ]
  }
 ],
 "metadata": {
  "interpreter": {
   "hash": "f4ef82600cdf590124375634574ae7123466b23f36d27e70f08c09766b3152c3"
  },
  "kernelspec": {
   "display_name": "Python 3.7.11 64-bit (conda)",
   "language": "python",
   "name": "python3"
  },
  "language_info": {
   "codemirror_mode": {
    "name": "ipython",
    "version": 3
   },
   "file_extension": ".py",
   "mimetype": "text/x-python",
   "name": "python",
   "nbconvert_exporter": "python",
   "pygments_lexer": "ipython3",
   "version": "3.7.11"
  }
 },
 "nbformat": 4,
 "nbformat_minor": 2
}
